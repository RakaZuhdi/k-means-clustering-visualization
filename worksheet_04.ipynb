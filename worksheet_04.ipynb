{
 "cells": [
  {
   "attachments": {},
   "cell_type": "markdown",
   "metadata": {},
   "source": [
    "# Worksheet\n",
    "\n",
    "[QUIZZ](https://forms.gle/uV4XBp3pNBktVdHU8)\n",
    "\n",
    "(Note: the rest of this worksheet is ungraded).\n",
    "\n",
    "## Cost Function\n",
    "\n",
    "Solving Data Science problems often starts by defining a metric with which to evaluate solutions were you able to find some. This metric is called a cost function. Data Science then backtracks and tries to find a process / algorithm to find solutions that can optimize for that cost function.\n",
    "\n",
    "For example suppose you are asked to cluster three points A, B, C into two non-empty clusters. If someone gave you the solution `{A, B}, {C}`, how would you evaluate that this is a good solution?\n",
    "\n",
    "Notice that because the clusters need to be non-empty and all points must be assigned to a cluster, it must be that two of the three points will be together in one cluster and the third will be alone in the other cluster.\n",
    "\n",
    "In the above solution, if A and B are closer than A and C, and B and C, then this is a good solution. The smaller the distance between the two points in the same cluster (here A and B), the better the solution. So we can define our cost function to be that distance (between A and B here)!\n",
    "\n",
    "The algorithm / process would involve clustering together the two closest points and put the third in its own cluster. This process optimizes for that cost function because no other pair of points could have a lower distance (although it could equal it)."
   ]
  },
  {
   "cell_type": "markdown",
   "metadata": {},
   "source": [
    "### K means"
   ]
  },
  {
   "cell_type": "markdown",
   "metadata": {},
   "source": [
    "a) (1-dimensional clustering) Walk through Lloyd's algorithm step by step on the following dataset:\n",
    "\n",
    "`[0, .5, 1.5, 2, 6, 6.5, 7]` (note: each of these are 1-dimensional data points)\n",
    "\n",
    "Given the initial centroids:\n",
    "\n",
    "`[0, 2]`"
   ]
  },
  {
   "cell_type": "markdown",
   "metadata": {},
   "source": []
  },
  {
   "cell_type": "markdown",
   "metadata": {},
   "source": [
    "b) Describe in plain english what the cost function for k means is."
   ]
  },
  {
   "cell_type": "markdown",
   "metadata": {},
   "source": []
  },
  {
   "cell_type": "markdown",
   "metadata": {},
   "source": [
    "c) For the same number of clusters K, why could there be very different solutions to the K means algorithm on a given dataset?"
   ]
  },
  {
   "cell_type": "markdown",
   "metadata": {},
   "source": []
  },
  {
   "cell_type": "markdown",
   "metadata": {},
   "source": [
    "d) Do you think Lloyd's Algorithm always converges?"
   ]
  },
  {
   "cell_type": "markdown",
   "metadata": {},
   "source": []
  },
  {
   "attachments": {},
   "cell_type": "markdown",
   "metadata": {},
   "source": [
    "e) Follow along in class the implementation of Kmeans\n",
    "\n",
    "```\n",
    "pip install numpy pillow matplotlib scikit-learn ipykernel\n",
    "```"
   ]
  },
  {
   "cell_type": "code",
   "metadata": {
    "ExecuteTime": {
     "end_time": "2025-09-22T21:27:18.654626Z",
     "start_time": "2025-09-22T21:27:17.686004Z"
    }
   },
   "source": [
    "import numpy as np\n",
    "from PIL import Image as im\n",
    "import matplotlib.pyplot as plt\n",
    "import sklearn.datasets as datasets\n",
    "\n",
    "centers = [[0, 0], [2, 2], [-3, 2], [2, -4]]\n",
    "X, _ = datasets.make_blobs(n_samples=300, centers=centers, cluster_std=1, random_state=0)\n",
    "\n",
    "class KMeans():\n",
    "\n",
    "    def __init__(self, data, k):\n",
    "        self.data = data\n",
    "        self.k = k\n",
    "        self.assignment = [self.unassigned() for _ in range(len(data))]\n",
    "        self.snaps = []\n",
    "\n",
    "    def unassigned(self):\n",
    "        return -1\n",
    "\n",
    "    def snap(self, centers, iteration):\n",
    "        TEMPFILE = \"temp.png\"\n",
    "\n",
    "        fig, ax = plt.subplots()\n",
    "        ax.scatter(X[:, 0], X[:, 1], c=self.assignment)\n",
    "        ax.scatter(centers[:,0], centers[:, 1], c='r')\n",
    "        ax.set_title(f\"Iteration {iteration}\")\n",
    "        fig.savefig(TEMPFILE)\n",
    "        plt.close()\n",
    "        self.snaps.append(im.fromarray(np.asarray(im.open(TEMPFILE))))\n",
    "\n",
    "    def initialize(self):\n",
    "        return self.data[np.random.choice(range(len(self.data)), self.k, replace=False)]\n",
    "\n",
    "    def dist(self, a, b):\n",
    "        return sum((a - b)**2) ** (1/2)\n",
    "\n",
    "    def assign(self, centers):\n",
    "        for i in range(len(self.data)):\n",
    "            min_dist = self.dist(self.data[i], centers[0])\n",
    "            self.assignment[i] = 0\n",
    "            for j in range(1, self.k):\n",
    "                if self.dist(self.data[i], centers[j]) < min_dist:\n",
    "                    min_dist = self.dist(self.data[i], centers[j])\n",
    "                    self.assignment[i] = j\n",
    "\n",
    "    def compute_centers(self):\n",
    "        new_centers = []\n",
    "        for j in range(self.k):\n",
    "            cluster = []\n",
    "            for i in range(len(self.data)):\n",
    "                if self.assignment[i] == j:\n",
    "                    cluster.append(i)\n",
    "            new_centers.append(np.mean(self.data[cluster], axis=0))\n",
    "        return np.array(new_centers)\n",
    "\n",
    "    def unassign(self):\n",
    "        self.assignment = [self.unassigned() for _ in range(len(self.data))]\n",
    "\n",
    "    def are_diff(self, x, y):\n",
    "        return not np.array_equal(x, y)\n",
    "\n",
    "    def lloyds(self):\n",
    "        iteration = 0\n",
    "        centers = self.initialize()\n",
    "        self.assign(centers)\n",
    "        self.snap(centers, iteration)\n",
    "        new_centers = self.compute_centers()\n",
    "        self.snap(new_centers, iteration)\n",
    "        while self.are_diff(centers, new_centers):\n",
    "            iteration += 1\n",
    "            centers = new_centers\n",
    "            self.unassign()\n",
    "            self.assign(centers)\n",
    "            self.snap(centers, iteration)\n",
    "            new_centers = self.compute_centers()\n",
    "            self.snap(new_centers, iteration)\n",
    "\n",
    "        return\n",
    "            \n",
    "\n",
    "kmeans = KMeans(X, 4)\n",
    "kmeans.lloyds()\n",
    "images = kmeans.snaps\n",
    "\n",
    "images[0].save(\n",
    "    'kmeans.gif',\n",
    "    optimize=False,\n",
    "    save_all=True,\n",
    "    append_images=images[1:],\n",
    "    loop=0,\n",
    "    duration=500\n",
    ")"
   ],
   "outputs": [],
   "execution_count": 44
  },
  {
   "cell_type": "code",
   "metadata": {
    "ExecuteTime": {
     "end_time": "2025-09-22T21:27:19.584227Z",
     "start_time": "2025-09-22T21:27:18.657571Z"
    }
   },
   "source": [
    "import numpy as np\n",
    "import matplotlib.pyplot as plt\n",
    "\n",
    "def disagreement(P, C):\n",
    "    total = 0\n",
    "    for i in range(len(P)):\n",
    "        for j in range(i, len(P)):\n",
    "            if P[i] == P[j] and C[i] != C[j]:\n",
    "                total +=1\n",
    "            if P[i] != P[j] and C[i] == C[j]:\n",
    "                total += 1\n",
    "    return total\n",
    "\n",
    "N = 3\n",
    "tots = []\n",
    "for i in range(100000):\n",
    "    P = np.random.choice(range(N), size=N)\n",
    "    C = np.random.choice(range(N), size=N)\n",
    "    tots.append(disagreement(P, C))\n",
    "\n",
    "plt.hist(tots, bins=int(N*(N-1)/2)+1, density=True)\n",
    "plt.show()\n",
    "print(np.mean(tots))"
   ],
   "outputs": [
    {
     "data": {
      "text/plain": [
       "<Figure size 640x480 with 1 Axes>"
      ],
      "image/png": "[encoded data removed]"
     },
     "metadata": {},
     "output_type": "display_data",
     "jetTransient": {
      "display_id": null
     }
    },
    {
     "name": "stdout",
     "output_type": "stream",
     "text": [
      "1.3344\n"
     ]
    }
   ],
   "execution_count": 45
  }
 ],
 "metadata": {
  "kernelspec": {
   "display_name": "env",
   "language": "python",
   "name": "python3"
  },
  "language_info": {
   "codemirror_mode": {
    "name": "ipython",
    "version": 3
   },
   "file_extension": ".py",
   "mimetype": "text/x-python",
   "name": "python",
   "nbconvert_exporter": "python",
   "pygments_lexer": "ipython3",
   "version": "3.12.3"
  },
  "orig_nbformat": 4
 },
 "nbformat": 4,
 "nbformat_minor": 2
}
